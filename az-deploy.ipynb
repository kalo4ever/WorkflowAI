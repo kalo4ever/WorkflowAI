{
 "cells": [
  {
   "cell_type": "code",
   "execution_count": 1,
   "id": "64ad619c",
   "metadata": {},
   "outputs": [
    {
     "name": "stdout",
     "output_type": "stream",
     "text": [
      "AES= 4lRSvWE9N11hrBRTuHwAm5+jC3H73w6WgAMGCPNeQNo=\n",
      "HMAC= YjeudIsH1xCEUDs2bf488CtuOnQQigy1szayy2ClAmM=\n"
     ]
    }
   ],
   "source": [
    "import os, base64\n",
    "print(\"AES=\", base64.b64encode(os.urandom(32)).decode())\n",
    "print(\"HMAC=\", base64.b64encode(os.urandom(32)).decode())\n",
    "\n"
   ]
  }
 ],
 "metadata": {
  "kernelspec": {
   "display_name": "Python 3",
   "language": "python",
   "name": "python3"
  },
  "language_info": {
   "codemirror_mode": {
    "name": "ipython",
    "version": 3
   },
   "file_extension": ".py",
   "mimetype": "text/x-python",
   "name": "python",
   "nbconvert_exporter": "python",
   "pygments_lexer": "ipython3",
   "version": "3.12.0"
  }
 },
 "nbformat": 4,
 "nbformat_minor": 5
}
